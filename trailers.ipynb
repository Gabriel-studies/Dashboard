{
 "cells": [
  {
   "cell_type": "code",
   "execution_count": null,
   "id": "f9aa1303",
   "metadata": {},
   "outputs": [
    {
     "name": "stderr",
     "output_type": "stream",
     "text": [
      "Fetching trailers: 100%|██████████| 2500/2500 [1:14:19<00:00,  1.78s/it]"
     ]
    },
    {
     "name": "stdout",
     "output_type": "stream",
     "text": [
      "✅ Done!\n"
     ]
    },
    {
     "name": "stderr",
     "output_type": "stream",
     "text": [
      "\n"
     ]
    }
   ],
   "source": [
    "import pandas as pd\n",
    "from youtubesearchpython import VideosSearch\n",
    "import time\n",
    "\n",
    "# Progress bar\n",
    "from tqdm import tqdm\n",
    "\n",
    "# Movie titles\n",
    "movies = pd.read_csv('movies.csv', encoding='latin1')\n",
    "unique_titles = movies['title'].dropna().drop_duplicates()\n",
    "\n",
    "# Gerting the trailer URL\n",
    "def get_trailer_url(title):\n",
    "    try:\n",
    "        query = f\"{title} official trailer\"\n",
    "        search = VideosSearch(query, limit=1)\n",
    "        result = search.result()\n",
    "        if result['result']:\n",
    "            return result['result'][0]['link']\n",
    "        else:\n",
    "            return None\n",
    "    except Exception:\n",
    "        return None\n",
    "\n",
    "# Fetch trailer URLs and PROGRESS bar\n",
    "results = []\n",
    "for title in tqdm(unique_titles, desc=\"Fetching trailers\"):\n",
    "    url = get_trailer_url(title)\n",
    "    results.append({'title': title, 'trailer_url': url})\n",
    "    time.sleep(1)  # Be nice to YouTube\n",
    "\n",
    "# Save to CSV\n",
    "trailers_df = pd.DataFrame(results)\n",
    "trailers_df.to_csv('trailers.csv', index=False)\n",
    "\n",
    "print(\"✅ Done!\")"
   ]
  },
  {
   "cell_type": "code",
   "execution_count": null,
   "id": "94cad91f",
   "metadata": {},
   "outputs": [],
   "source": []
  }
 ],
 "metadata": {
  "kernelspec": {
   "display_name": "Python 3",
   "language": "python",
   "name": "python3"
  },
  "language_info": {
   "codemirror_mode": {
    "name": "ipython",
    "version": 3
   },
   "file_extension": ".py",
   "mimetype": "text/x-python",
   "name": "python",
   "nbconvert_exporter": "python",
   "pygments_lexer": "ipython3",
   "version": "3.11.3"
  }
 },
 "nbformat": 4,
 "nbformat_minor": 5
}
